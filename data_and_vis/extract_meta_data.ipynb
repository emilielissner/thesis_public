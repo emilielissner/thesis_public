{
 "cells": [
  {
   "cell_type": "markdown",
   "metadata": {},
   "source": [
    "# Meta data"
   ]
  },
  {
   "cell_type": "code",
   "execution_count": 29,
   "metadata": {},
   "outputs": [],
   "source": [
    "import requests\n",
    "import pandas as pd"
   ]
  },
  {
   "cell_type": "markdown",
   "metadata": {},
   "source": [
    "### Station meta data from API"
   ]
  },
  {
   "cell_type": "code",
   "execution_count": 30,
   "metadata": {},
   "outputs": [
    {
     "name": "stdout",
     "output_type": "stream",
     "text": [
      "Status Code: 200\n",
      "Response Content: {\"type\":\"FeatureCollection\",\"features\":[{\"geometry\":{\"coordinates\":[12.4223,55.2932],\"type\":\"Point\"},\"id\":\"007a5daf-0379-9a6e-42f6-3eb237d0d47e\",\"type\":\"Feature\",\"properties\":{\"barometerHeight\":null,\"country\":\"DNK\",\"created\":\"2024-01-18T18:51:55Z\",\"name\":\"Møllebjerggård\",\"operationFrom\":\"2011-10-01T00:00:00Z\",\"operationTo\":null,\"owner\":\"DMI\",\"parameterId\":[\"snow_cover_man\",\"snow_depth_man\"],\"regionId\":null,\"stationHeight\":null,\"stationId\":\"31040\",\"status\":\"Active\",\"type\":\"Manual snow\",\"updated\":\n"
     ]
    }
   ],
   "source": [
    "url = 'https://dmigw.govcloud.dk/v2/metObs/collections/station/items?api-key=583fcbb8-3d81-4278-9d31-6fbcafb8ac8f'\n",
    "response = requests.get(url)\n",
    "\n",
    "# Check the status code and content of the response\n",
    "print(\"Status Code:\", response.status_code)\n",
    "print(\"Response Content:\", response.text[:500])  # Print first 500 characters of the response\n",
    "\n",
    "# If the response is in JSON format, parse it\n",
    "if response.headers.get('Content-Type') == 'application/json':\n",
    "    try:\n",
    "        data = response.json()\n",
    "        #print(data)\n",
    "    except ValueError as e:\n",
    "        print(\"Error parsing JSON:\", e)\n",
    "else:\n",
    "    print(\"Response is not in JSON format.\")"
   ]
  },
  {
   "cell_type": "code",
   "execution_count": 31,
   "metadata": {},
   "outputs": [],
   "source": [
    "extracted_data = []\n",
    "\n",
    "# Iterate through each feature in data['features']\n",
    "for feature in data['features']:\n",
    "    # Extract the required fields\n",
    "    country = feature['properties']['country']\n",
    "    name = feature['properties']['name']\n",
    "    stationId = feature['properties']['stationId']\n",
    "    validFrom = feature['properties']['validFrom']\n",
    "    validTo = feature['properties']['validTo']\n",
    "    coordinates = feature['geometry']['coordinates']  # This is a list [longitude, latitude]\n",
    "\n",
    "    # Append this information as a dictionary to the list\n",
    "    extracted_data.append({\n",
    "        'country': country,\n",
    "        'name': name,\n",
    "        'stationId': stationId,\n",
    "        'validFrom': validFrom,\n",
    "        'validTo': validTo,\n",
    "        'longitude': coordinates[0],\n",
    "        'latitude': coordinates[1]\n",
    "    })\n",
    "\n",
    "# Create a DataFrame from the extracted data\n",
    "df = pd.DataFrame(extracted_data)\n",
    "\n",
    "# Keep only the rows where country is 'DNK'\n",
    "df = df[df['country'] == 'DNK']\n",
    "\n",
    "# Save the DataFrame as a CSV file\n",
    "csv_file_path = 'C:/Users/lissn/Thesis/data/meta_data/station_meta_data.csv'  \n",
    "df.to_csv(csv_file_path, index=False)\n"
   ]
  },
  {
   "cell_type": "markdown",
   "metadata": {},
   "source": [
    "### Radar meta data"
   ]
  },
  {
   "cell_type": "code",
   "execution_count": 32,
   "metadata": {},
   "outputs": [],
   "source": [
    "\n",
    "# Define the data\n",
    "data = {\n",
    "    'Name': ['Rømø/Juvre', 'Sindal', 'Bornholm', 'Stevns', 'Virring Skanderborg'],\n",
    "    'StationId': ['60960', '06036', '06194', '06177', '06103'],\n",
    "    'Station type': ['Radar', 'Radar', 'Radar', 'Radar', 'Radar'],\n",
    "    'Country': ['DNK', 'DNK', 'DNK', 'DNK', 'DNK'],\n",
    "    'Owner': ['DMI', 'DMI', 'DMI', 'DMI', 'DMI'],\n",
    "    'Status': ['Active', 'Active', 'Inactive', 'Active', 'Active'],\n",
    "    'Latitude': [55.1725903, 57.48876226, 55.11283297, 55.32561875, 56.02386909],\n",
    "    'Longitude': [8.55052996, 10.13511376, 14.8874575, 12.44817293, 10.02516884],\n",
    "    'Active from': ['01-03-1992', '01-07-1994', '05-03-2002', '01-04-2001', '01-11-2008']\n",
    "}\n",
    "\n",
    "# Create a DataFrame\n",
    "df = pd.DataFrame(data)\n",
    "\n",
    "# Save the DataFrame as a CSV file\n",
    "csv_file_path = 'C:/Users/lissn/Thesis/data/meta_data/radar_meta_data.csv' \n",
    "df.to_csv(csv_file_path, index=False)\n"
   ]
  }
 ],
 "metadata": {
  "kernelspec": {
   "display_name": "env_thesis",
   "language": "python",
   "name": "python3"
  },
  "language_info": {
   "codemirror_mode": {
    "name": "ipython",
    "version": 3
   },
   "file_extension": ".py",
   "mimetype": "text/x-python",
   "name": "python",
   "nbconvert_exporter": "python",
   "pygments_lexer": "ipython3",
   "version": "3.10.11"
  }
 },
 "nbformat": 4,
 "nbformat_minor": 2
}
