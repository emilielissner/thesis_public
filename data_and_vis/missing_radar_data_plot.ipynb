{
 "cells": [
  {
   "cell_type": "code",
   "execution_count": 1,
   "metadata": {},
   "outputs": [],
   "source": [
    "import pandas as pd"
   ]
  },
  {
   "cell_type": "code",
   "execution_count": 2,
   "metadata": {},
   "outputs": [],
   "source": [
    "df_test = pd.read_csv('C:/Users/lissn/Thesis/data/trainZR_v2.csv')"
   ]
  },
  {
   "cell_type": "code",
   "execution_count": 3,
   "metadata": {},
   "outputs": [
    {
     "data": {
      "text/html": [
       "<div>\n",
       "<style scoped>\n",
       "    .dataframe tbody tr th:only-of-type {\n",
       "        vertical-align: middle;\n",
       "    }\n",
       "\n",
       "    .dataframe tbody tr th {\n",
       "        vertical-align: top;\n",
       "    }\n",
       "\n",
       "    .dataframe thead th {\n",
       "        text-align: right;\n",
       "    }\n",
       "</style>\n",
       "<table border=\"1\" class=\"dataframe\">\n",
       "  <thead>\n",
       "    <tr style=\"text-align: right;\">\n",
       "      <th></th>\n",
       "      <th>timestamp</th>\n",
       "      <th>stationId</th>\n",
       "      <th>R</th>\n",
       "      <th>Z</th>\n",
       "      <th>dBZ</th>\n",
       "      <th>radar_norm</th>\n",
       "      <th>dist_coast</th>\n",
       "      <th>dist_radar</th>\n",
       "      <th>topo</th>\n",
       "      <th>toy_sin</th>\n",
       "      <th>toy_cos</th>\n",
       "      <th>tod_sin</th>\n",
       "      <th>tod_cos</th>\n",
       "    </tr>\n",
       "  </thead>\n",
       "  <tbody>\n",
       "    <tr>\n",
       "      <th>0</th>\n",
       "      <td>2022-04-02 04:10:00</td>\n",
       "      <td>5045</td>\n",
       "      <td>0.0</td>\n",
       "      <td>0.0</td>\n",
       "      <td>0.0</td>\n",
       "      <td>0.0</td>\n",
       "      <td>0.004757</td>\n",
       "      <td>0.069321</td>\n",
       "      <td>0.085714</td>\n",
       "      <td>0.99993</td>\n",
       "      <td>-0.011826</td>\n",
       "      <td>0.887011</td>\n",
       "      <td>0.461749</td>\n",
       "    </tr>\n",
       "    <tr>\n",
       "      <th>1</th>\n",
       "      <td>2022-04-02 04:10:00</td>\n",
       "      <td>5047</td>\n",
       "      <td>0.0</td>\n",
       "      <td>0.0</td>\n",
       "      <td>0.0</td>\n",
       "      <td>0.0</td>\n",
       "      <td>0.039805</td>\n",
       "      <td>0.057762</td>\n",
       "      <td>0.114286</td>\n",
       "      <td>0.99993</td>\n",
       "      <td>-0.011826</td>\n",
       "      <td>0.887011</td>\n",
       "      <td>0.461749</td>\n",
       "    </tr>\n",
       "    <tr>\n",
       "      <th>2</th>\n",
       "      <td>2022-04-02 04:10:00</td>\n",
       "      <td>5052</td>\n",
       "      <td>0.0</td>\n",
       "      <td>0.0</td>\n",
       "      <td>0.0</td>\n",
       "      <td>0.0</td>\n",
       "      <td>0.000440</td>\n",
       "      <td>0.079317</td>\n",
       "      <td>0.057143</td>\n",
       "      <td>0.99993</td>\n",
       "      <td>-0.011826</td>\n",
       "      <td>0.887011</td>\n",
       "      <td>0.461749</td>\n",
       "    </tr>\n",
       "    <tr>\n",
       "      <th>3</th>\n",
       "      <td>2022-04-02 04:10:00</td>\n",
       "      <td>5054</td>\n",
       "      <td>0.0</td>\n",
       "      <td>0.0</td>\n",
       "      <td>0.0</td>\n",
       "      <td>0.0</td>\n",
       "      <td>0.000815</td>\n",
       "      <td>0.077850</td>\n",
       "      <td>0.142857</td>\n",
       "      <td>0.99993</td>\n",
       "      <td>-0.011826</td>\n",
       "      <td>0.887011</td>\n",
       "      <td>0.461749</td>\n",
       "    </tr>\n",
       "    <tr>\n",
       "      <th>4</th>\n",
       "      <td>2022-04-02 04:10:00</td>\n",
       "      <td>5056</td>\n",
       "      <td>0.0</td>\n",
       "      <td>0.0</td>\n",
       "      <td>0.0</td>\n",
       "      <td>0.0</td>\n",
       "      <td>0.000000</td>\n",
       "      <td>0.081571</td>\n",
       "      <td>0.057143</td>\n",
       "      <td>0.99993</td>\n",
       "      <td>-0.011826</td>\n",
       "      <td>0.887011</td>\n",
       "      <td>0.461749</td>\n",
       "    </tr>\n",
       "    <tr>\n",
       "      <th>5</th>\n",
       "      <td>2022-04-02 04:10:00</td>\n",
       "      <td>5058</td>\n",
       "      <td>0.0</td>\n",
       "      <td>0.0</td>\n",
       "      <td>0.0</td>\n",
       "      <td>0.0</td>\n",
       "      <td>0.017037</td>\n",
       "      <td>0.090636</td>\n",
       "      <td>0.342857</td>\n",
       "      <td>0.99993</td>\n",
       "      <td>-0.011826</td>\n",
       "      <td>0.887011</td>\n",
       "      <td>0.461749</td>\n",
       "    </tr>\n",
       "    <tr>\n",
       "      <th>6</th>\n",
       "      <td>2022-04-02 04:10:00</td>\n",
       "      <td>5061</td>\n",
       "      <td>0.0</td>\n",
       "      <td>0.0</td>\n",
       "      <td>0.0</td>\n",
       "      <td>0.0</td>\n",
       "      <td>0.027311</td>\n",
       "      <td>0.094591</td>\n",
       "      <td>0.171429</td>\n",
       "      <td>0.99993</td>\n",
       "      <td>-0.011826</td>\n",
       "      <td>0.887011</td>\n",
       "      <td>0.461749</td>\n",
       "    </tr>\n",
       "    <tr>\n",
       "      <th>7</th>\n",
       "      <td>2022-04-02 04:10:00</td>\n",
       "      <td>5107</td>\n",
       "      <td>0.0</td>\n",
       "      <td>0.0</td>\n",
       "      <td>0.0</td>\n",
       "      <td>0.0</td>\n",
       "      <td>0.005579</td>\n",
       "      <td>0.173747</td>\n",
       "      <td>0.085714</td>\n",
       "      <td>0.99993</td>\n",
       "      <td>-0.011826</td>\n",
       "      <td>0.887011</td>\n",
       "      <td>0.461749</td>\n",
       "    </tr>\n",
       "    <tr>\n",
       "      <th>8</th>\n",
       "      <td>2022-04-02 04:10:00</td>\n",
       "      <td>5115</td>\n",
       "      <td>0.0</td>\n",
       "      <td>0.0</td>\n",
       "      <td>0.0</td>\n",
       "      <td>0.0</td>\n",
       "      <td>0.004619</td>\n",
       "      <td>0.135873</td>\n",
       "      <td>0.057143</td>\n",
       "      <td>0.99993</td>\n",
       "      <td>-0.011826</td>\n",
       "      <td>0.887011</td>\n",
       "      <td>0.461749</td>\n",
       "    </tr>\n",
       "    <tr>\n",
       "      <th>9</th>\n",
       "      <td>2022-04-02 04:10:00</td>\n",
       "      <td>5125</td>\n",
       "      <td>0.0</td>\n",
       "      <td>0.0</td>\n",
       "      <td>0.0</td>\n",
       "      <td>0.0</td>\n",
       "      <td>0.104482</td>\n",
       "      <td>0.100079</td>\n",
       "      <td>0.257143</td>\n",
       "      <td>0.99993</td>\n",
       "      <td>-0.011826</td>\n",
       "      <td>0.887011</td>\n",
       "      <td>0.461749</td>\n",
       "    </tr>\n",
       "  </tbody>\n",
       "</table>\n",
       "</div>"
      ],
      "text/plain": [
       "             timestamp  stationId    R    Z  dBZ  radar_norm  dist_coast  \\\n",
       "0  2022-04-02 04:10:00       5045  0.0  0.0  0.0         0.0    0.004757   \n",
       "1  2022-04-02 04:10:00       5047  0.0  0.0  0.0         0.0    0.039805   \n",
       "2  2022-04-02 04:10:00       5052  0.0  0.0  0.0         0.0    0.000440   \n",
       "3  2022-04-02 04:10:00       5054  0.0  0.0  0.0         0.0    0.000815   \n",
       "4  2022-04-02 04:10:00       5056  0.0  0.0  0.0         0.0    0.000000   \n",
       "5  2022-04-02 04:10:00       5058  0.0  0.0  0.0         0.0    0.017037   \n",
       "6  2022-04-02 04:10:00       5061  0.0  0.0  0.0         0.0    0.027311   \n",
       "7  2022-04-02 04:10:00       5107  0.0  0.0  0.0         0.0    0.005579   \n",
       "8  2022-04-02 04:10:00       5115  0.0  0.0  0.0         0.0    0.004619   \n",
       "9  2022-04-02 04:10:00       5125  0.0  0.0  0.0         0.0    0.104482   \n",
       "\n",
       "   dist_radar      topo  toy_sin   toy_cos   tod_sin   tod_cos  \n",
       "0    0.069321  0.085714  0.99993 -0.011826  0.887011  0.461749  \n",
       "1    0.057762  0.114286  0.99993 -0.011826  0.887011  0.461749  \n",
       "2    0.079317  0.057143  0.99993 -0.011826  0.887011  0.461749  \n",
       "3    0.077850  0.142857  0.99993 -0.011826  0.887011  0.461749  \n",
       "4    0.081571  0.057143  0.99993 -0.011826  0.887011  0.461749  \n",
       "5    0.090636  0.342857  0.99993 -0.011826  0.887011  0.461749  \n",
       "6    0.094591  0.171429  0.99993 -0.011826  0.887011  0.461749  \n",
       "7    0.173747  0.085714  0.99993 -0.011826  0.887011  0.461749  \n",
       "8    0.135873  0.057143  0.99993 -0.011826  0.887011  0.461749  \n",
       "9    0.100079  0.257143  0.99993 -0.011826  0.887011  0.461749  "
      ]
     },
     "execution_count": 3,
     "metadata": {},
     "output_type": "execute_result"
    }
   ],
   "source": [
    "df_test.head(10)"
   ]
  },
  {
   "cell_type": "code",
   "execution_count": 4,
   "metadata": {},
   "outputs": [],
   "source": [
    "import numpy as np\n",
    "df_test = df_test[(df_test['R'] != 0) & (df_test['Z'] != 0) & ~df_test['R'].isnull() & ~df_test['Z'].isnull()]"
   ]
  },
  {
   "cell_type": "code",
   "execution_count": 5,
   "metadata": {},
   "outputs": [
    {
     "data": {
      "text/plain": [
       "0.115129254649702"
      ]
     },
     "execution_count": 5,
     "metadata": {},
     "output_type": "execute_result"
    }
   ],
   "source": [
    "np.log(df_test['Z']).min()"
   ]
  },
  {
   "cell_type": "code",
   "execution_count": 6,
   "metadata": {},
   "outputs": [
    {
     "data": {
      "text/plain": [
       "14.391156831212786"
      ]
     },
     "execution_count": 6,
     "metadata": {},
     "output_type": "execute_result"
    }
   ],
   "source": [
    "np.log(df_test['Z']).max()"
   ]
  },
  {
   "cell_type": "code",
   "execution_count": 7,
   "metadata": {},
   "outputs": [
    {
     "data": {
      "image/png": "[encoded data removed]",
      "text/plain": [
       "<Figure size 640x480 with 1 Axes>"
      ]
     },
     "metadata": {},
     "output_type": "display_data"
    }
   ],
   "source": [
    "# Plot og logarithm \n",
    "\n",
    "import matplotlib.pyplot as plt\n",
    "import seaborn as sns\n",
    "\n",
    "sns.histplot(np.log(df_test['R']*60), bins=100)\n",
    "plt.show()"
   ]
  },
  {
   "cell_type": "markdown",
   "metadata": {},
   "source": [
    "### Missing radar data"
   ]
  },
  {
   "cell_type": "code",
   "execution_count": 20,
   "metadata": {},
   "outputs": [
    {
     "name": "stderr",
     "output_type": "stream",
     "text": [
      "C:\\Users\\lissn\\AppData\\Local\\Temp\\ipykernel_7232\\3978659582.py:10: FutureWarning: 'M' is deprecated and will be removed in a future version, please use 'ME' instead.\n",
      "  all_months = pd.date_range(start_date_dt, end_date_dt, freq='M').strftime('%Y-%m').tolist()\n",
      "100%|██████████| 91873/91873 [00:04<00:00, 20889.51it/s]\n"
     ]
    },
    {
     "data": {
      "image/png": "[encoded data removed]",
      "text/plain": [
       "<Figure size 1400x400 with 1 Axes>"
      ]
     },
     "metadata": {},
     "output_type": "display_data"
    }
   ],
   "source": [
    "data_dir = \"C:/Users/lissn/Thesis/data/radar\"\n",
    "\n",
    "start_date = '20220402'\n",
    "end_date = '20231231'\n",
    "\n",
    "start_date_dt, end_date_dt = pd.to_datetime(start_date), pd.to_datetime(end_date)\n",
    "filtered_dates = [date for date in pd.date_range(start_date_dt, end_date_dt, freq='5min') if date.minute % 10 == 0]\n",
    "\n",
    "# Generate a complete list of month-year keys and expected counts\n",
    "all_months = pd.date_range(start_date_dt, end_date_dt, freq='M').strftime('%Y-%m').tolist()\n",
    "expected_counts = {month: 6*24*pd.Timestamp(month).days_in_month for month in all_months}  # 6 times per hour, 24 hours a day\n",
    "\n",
    "# Initialize failures_by_month with zeros for all months\n",
    "failures_by_month = {month: 0 for month in all_months}\n",
    "\n",
    "total_expected = 0\n",
    "total_missing = 0\n",
    "\n",
    "for date in tqdm(filtered_dates):\n",
    "    year, month, day, hour, minute = date.year, date.month, date.day, date.hour, date.minute\n",
    "    file_path = f\"{data_dir}/{year}/{year}/{month:02d}/{day:02d}/dk.com.{year}{month:02d}{day:02d}{hour:02d}{minute:02d}.500_max.h5\"\n",
    "    \n",
    "    # Update total expected files count\n",
    "    total_expected += 1\n",
    "    \n",
    "    # Check if file does not exist (simulating pf.load_radar_image's failure to load)\n",
    "    if not os.path.exists(file_path):\n",
    "        fail_key = f\"{year}-{month:02d}\"\n",
    "        failures_by_month[fail_key] += 1\n",
    "        # Update total missing files count\n",
    "        total_missing += 1\n",
    "\n",
    "# Calculate the total percentage of missing files\n",
    "total_percentage_missing = (total_missing / total_expected) * 100\n",
    "\n",
    "# Calculate percentages\n",
    "percentages = {month: (failures/expected_counts[month])*100 for month, failures in failures_by_month.items()}\n",
    "\n",
    "# Plotting\n",
    "plt.figure(figsize=(14, 4))\n",
    "bars = plt.bar(percentages.keys(), percentages.values(), color='skyblue')\n",
    "plt.xlabel('Month')\n",
    "plt.ylabel('Percentage of Missing Files')\n",
    "#plt.title('Percentage of Missing Radar Files by Month')\n",
    "plt.xticks(rotation=45)\n",
    "plt.ylim(0, 2)\n",
    "\n",
    "# Adding percentage above each bar\n",
    "for bar, percentage in zip(bars, percentages.values()):\n",
    "    plt.text(bar.get_x() + bar.get_width() / 2., bar.get_height(), f'{percentage:.2f}%', ha='center', va='bottom')\n",
    "\n",
    "plt.tight_layout()\n",
    "plt.savefig('C:/Users/lissn/Thesis/figures/missing_files.png')\n",
    "plt.show()"
   ]
  },
  {
   "cell_type": "code",
   "execution_count": 19,
   "metadata": {},
   "outputs": [
    {
     "name": "stdout",
     "output_type": "stream",
     "text": [
      "Total percentage of missing files: 0.19%\n"
     ]
    }
   ],
   "source": [
    "print(f\"Total percentage of missing files: {total_percentage_missing:.2f}%\")"
   ]
  },
  {
   "cell_type": "markdown",
   "metadata": {},
   "source": [
    "### Missing rain gauge data"
   ]
  },
  {
   "cell_type": "code",
   "execution_count": 23,
   "metadata": {},
   "outputs": [
    {
     "name": "stdout",
     "output_type": "stream",
     "text": [
      "Percentage of 0 values: 93.11%\n",
      "Percentage of NaN values: 1.43%\n",
      "Percentage of positive values: 5.45%\n"
     ]
    }
   ],
   "source": [
    "base_path = 'C:/Users/lissn/Thesis'\n",
    "\n",
    "# Load 2023 SVK data\n",
    "SVK_path22 = base_path + '/data/2022_rain_observations.csv'\n",
    "df22 = pd.read_csv(SVK_path22)\n",
    "df22['time'] = pd.to_datetime(df22['time'])\n",
    "# Apply date filter for 2022 data starting from April 2nd\n",
    "df22 = df22[(df22['time'] >= '2022-04-02') & (df22['time'].dt.year == 2022)]\n",
    "\n",
    "# Load 2023 SVK data\n",
    "SVK_path23 = base_path + '/data/2023_rain_observations.csv'\n",
    "df23 = pd.read_csv(SVK_path23)\n",
    "df23['time'] = pd.to_datetime(df23['time'])\n",
    "df23= df23[df23['time'].dt.year == 2023] # Only keep 2023 data\n",
    "\n",
    "# Concatenate the two dataframes\n",
    "df = pd.concat([df22, df23], ignore_index=True)\n",
    "df = df.set_index(df.columns[0])\n",
    "\n",
    "total_values = df.size\n",
    "zero_counts = (df == 0).sum().sum()\n",
    "nan_counts = df.isna().sum().sum()\n",
    "positive_counts = (df > 0).sum().sum()\n",
    "\n",
    "# Calculate percentages\n",
    "percent_zero = (zero_counts / total_values) * 100\n",
    "percent_nan = (nan_counts / total_values) * 100  \n",
    "percent_positive = (positive_counts / total_values) * 100\n",
    "\n",
    "print(f\"Percentage of 0 values: {percent_zero:.2f}%\")\n",
    "print(f\"Percentage of NaN values: {percent_nan:.2f}%\")\n",
    "print(f\"Percentage of positive values: {percent_positive:.2f}%\")"
   ]
  }
 ],
 "metadata": {
  "kernelspec": {
   "display_name": "env_thesis",
   "language": "python",
   "name": "python3"
  },
  "language_info": {
   "codemirror_mode": {
    "name": "ipython",
    "version": 3
   },
   "file_extension": ".py",
   "mimetype": "text/x-python",
   "name": "python",
   "nbconvert_exporter": "python",
   "pygments_lexer": "ipython3",
   "version": "3.10.11"
  }
 },
 "nbformat": 4,
 "nbformat_minor": 2
}
