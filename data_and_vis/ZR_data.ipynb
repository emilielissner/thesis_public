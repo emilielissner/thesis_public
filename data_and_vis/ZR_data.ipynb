{
 "cells": [
  {
   "cell_type": "code",
   "execution_count": 2,
   "metadata": {},
   "outputs": [],
   "source": [
    "import pandas as pd\n",
    "import numpy as np\n",
    "from tqdm import tqdm\n",
    "import matplotlib.pyplot as plt\n",
    "from pyproj import CRS\n",
    "from scipy.spatial import cKDTree\n",
    "\n",
    "# Local application/library specific imports\n",
    "import importlib\n",
    "import project_functions as pf\n",
    "\n",
    "# Reloading the local module \n",
    "importlib.reload(pf)\n",
    "\n",
    "# Base path\n",
    "base_path = 'C:/Users/Henri/Emilie/Thesis'"
   ]
  },
  {
   "cell_type": "markdown",
   "metadata": {},
   "source": [
    "### Load data"
   ]
  },
  {
   "cell_type": "code",
   "execution_count": 3,
   "metadata": {},
   "outputs": [],
   "source": [
    "# Load 2023 SVK data\n",
    "SVK_path22 = base_path + '/data/2022_rain_observations.csv'\n",
    "df22 = pd.read_csv(SVK_path22)\n",
    "df22['time'] = pd.to_datetime(df22['time'])\n",
    "df22= df22[df22['time'].dt.year == 2022] # Only keep 2022 data\n",
    "\n",
    "# Load 2023 SVK data\n",
    "SVK_path23 = base_path + '/data/2023_rain_observations.csv'\n",
    "df23 = pd.read_csv(SVK_path23)\n",
    "df23['time'] = pd.to_datetime(df23['time'])\n",
    "df23= df23[df23['time'].dt.year == 2023] # Only keep 2023 data\n",
    "\n",
    "# Concatenate the two dataframes\n",
    "df = pd.concat([df22, df23], ignore_index=True)\n",
    "df = df.set_index(df.columns[0])"
   ]
  },
  {
   "cell_type": "code",
   "execution_count": 4,
   "metadata": {},
   "outputs": [],
   "source": [
    "# Load radar meta data\n",
    "radar_path = base_path + '/data/meta_data/radar_meta_data.csv' \n",
    "radar_df = pd.read_csv(radar_path)\n",
    "\n",
    "# Load gague station meta data\n",
    "station_path = base_path + '/data/meta_data/SVK_stationsliste.txt' \n",
    "station_df = pd.read_csv(station_path,  sep=' ', index_col=False)\n",
    "station_df.rename(columns={'05Nr': 'stationId'}, inplace=True)\n",
    "station_df = station_df[station_df['Slutdato'].isna()] # Only keep active stations\n",
    "station_df = station_df[['stationId', 'Stationsnavn', 'Northings', 'Eastings' ]] # Only keep relevant columns"
   ]
  },
  {
   "cell_type": "code",
   "execution_count": 5,
   "metadata": {},
   "outputs": [
    {
     "data": {
      "text/html": [
       "<div>\n",
       "<style scoped>\n",
       "    .dataframe tbody tr th:only-of-type {\n",
       "        vertical-align: middle;\n",
       "    }\n",
       "\n",
       "    .dataframe tbody tr th {\n",
       "        vertical-align: top;\n",
       "    }\n",
       "\n",
       "    .dataframe thead th {\n",
       "        text-align: right;\n",
       "    }\n",
       "</style>\n",
       "<table border=\"1\" class=\"dataframe\">\n",
       "  <thead>\n",
       "    <tr style=\"text-align: right;\">\n",
       "      <th></th>\n",
       "      <th>stationId</th>\n",
       "      <th>Stationsnavn</th>\n",
       "      <th>Northings</th>\n",
       "      <th>Eastings</th>\n",
       "    </tr>\n",
       "  </thead>\n",
       "  <tbody>\n",
       "    <tr>\n",
       "      <th>2</th>\n",
       "      <td>5025</td>\n",
       "      <td>FREDERIKSHAVN_MATERIELGÅRD</td>\n",
       "      <td>6368352</td>\n",
       "      <td>589564</td>\n",
       "    </tr>\n",
       "    <tr>\n",
       "      <th>3</th>\n",
       "      <td>5027</td>\n",
       "      <td>FREDERIKSHAVN_CENTRALRENSEANLÆG</td>\n",
       "      <td>6365840</td>\n",
       "      <td>591625</td>\n",
       "    </tr>\n",
       "    <tr>\n",
       "      <th>5</th>\n",
       "      <td>5045</td>\n",
       "      <td>VODSKOV</td>\n",
       "      <td>6328973</td>\n",
       "      <td>562047</td>\n",
       "    </tr>\n",
       "    <tr>\n",
       "      <th>7</th>\n",
       "      <td>5047</td>\n",
       "      <td>SULSTED_STOKBROVEJ_PUMPEST.</td>\n",
       "      <td>6336906</td>\n",
       "      <td>557766</td>\n",
       "    </tr>\n",
       "    <tr>\n",
       "      <th>8</th>\n",
       "      <td>5049</td>\n",
       "      <td>GISTRUP</td>\n",
       "      <td>6317424</td>\n",
       "      <td>560707</td>\n",
       "    </tr>\n",
       "  </tbody>\n",
       "</table>\n",
       "</div>"
      ],
      "text/plain": [
       "   stationId                     Stationsnavn  Northings  Eastings\n",
       "2       5025       FREDERIKSHAVN_MATERIELGÅRD    6368352    589564\n",
       "3       5027  FREDERIKSHAVN_CENTRALRENSEANLÆG    6365840    591625\n",
       "5       5045                          VODSKOV    6328973    562047\n",
       "7       5047      SULSTED_STOKBROVEJ_PUMPEST.    6336906    557766\n",
       "8       5049                          GISTRUP    6317424    560707"
      ]
     },
     "execution_count": 5,
     "metadata": {},
     "output_type": "execute_result"
    }
   ],
   "source": [
    "station_df.head()"
   ]
  },
  {
   "cell_type": "code",
   "execution_count": 4,
   "metadata": {},
   "outputs": [],
   "source": [
    "# Correct mistake in SVK data\n",
    "station_df['Northings'] = station_df['Northings'].apply(lambda x: x / 1e8 if x > 1e9 else x)\n",
    "station_df['Eastings'] = station_df['Eastings'].apply(lambda x: x / 1e9 if x > 1e9 else x)\n",
    "\n",
    "# Apply transformation (from northings/eastings to lat/lon)\n",
    "station_df['Longitude'], station_df['Latitude'] = zip(*station_df.apply(lambda row: pf.transform_coordinates_from_EUREF89_to_WGS84(row['Eastings'], row['Northings']), axis=1))\n",
    "\n",
    "# Filter such that only stations with measured data are included\n",
    "station_df['stationId_str'] = station_df['stationId'].astype(str)\n",
    "station_df = station_df[station_df['stationId_str'].isin(df.columns)]"
   ]
  },
  {
   "cell_type": "code",
   "execution_count": 5,
   "metadata": {},
   "outputs": [],
   "source": [
    "# Mark gauges than is located in the cone of silence (25 km from radar)\n",
    "vec_haversine = np.vectorize(pf.haversine) # Vectorize the haversine function \n",
    "station_df['Within_25km_of_Radar'] = False # Initialize a column with False indicating no radar within 25 km\n",
    "\n",
    "for index, station in station_df.iterrows():\n",
    "    # Calculate distances to all radars\n",
    "    distances = vec_haversine(station['Longitude'], station['Latitude'],\n",
    "                              radar_df['Longitude'].values, radar_df['Latitude'].values)\n",
    "    \n",
    "    # Check if any distance is less than 25 km\n",
    "    if np.any(distances < 25):\n",
    "        # Update the column for this station\n",
    "        station_df.at[index, 'Within_25km_of_Radar'] = True"
   ]
  },
  {
   "cell_type": "code",
   "execution_count": 6,
   "metadata": {},
   "outputs": [],
   "source": [
    "# Get radar coordinate grid with longitudes and latitudes\n",
    "x_radar_coords = np.arange(-421364.8 - 500, 569635.2 + 500, 500) \n",
    "y_radar_coords = np.arange(468631 + 500, -394369 - 500, -500)\n",
    "dmi_stere_crs = CRS(\"+proj=stere +ellps=WGS84 +lat_0=56 +lon_0=10.5666 +lat_ts=56\") # raw data CRS projection\n",
    "plotting_crs = 'epsg:4326' # the CRS projection you want to plot the data in\n",
    "radar_lons, radar_lats = pf.transform_raster_grid_coordinates(x_radar_coords, y_radar_coords, dmi_stere_crs, plotting_crs) "
   ]
  },
  {
   "cell_type": "code",
   "execution_count": 7,
   "metadata": {},
   "outputs": [],
   "source": [
    "# Calculate midpoints for longitude and latitude separately\n",
    "mid_lons = pf.calculate_midpoints(radar_lons)\n",
    "mid_lats = pf. calculate_midpoints(radar_lats)\n",
    "\n",
    "# Prepare the radar points (midpoints of pixels) for KDTree\n",
    "radar_midpoints = np.column_stack((mid_lons.flatten(), mid_lats.flatten()))\n",
    "\n",
    "# Build a KDTree for fast nearest-neighbor lookup using radar midpoints\n",
    "tree = cKDTree(radar_midpoints)\n",
    "\n",
    "# Convert station locations to an array of (longitude, latitude) pairs for searching\n",
    "station_points = station_df[['Longitude', 'Latitude']].values\n",
    "\n",
    "# Find the nearest radar pixel midpoint for each station\n",
    "distances, indices_1d = tree.query(station_points)\n",
    "\n",
    "# Translate the 1D indices back to 2D indices in the radar arrays\n",
    "# Note: We subtract 1 from the shape of the radar arrays because the midpoints grid is smaller\n",
    "num_cols = radar_lons.shape[1] - 1\n",
    "indices_row = indices_1d // num_cols\n",
    "indices_col = indices_1d % num_cols\n",
    "\n",
    "# Add the indices to station_df\n",
    "station_df['radar_pixel_row'] = indices_row\n",
    "station_df['radar_pixel_col'] = indices_col"
   ]
  },
  {
   "cell_type": "markdown",
   "metadata": {},
   "source": [
    "### Train/test split"
   ]
  },
  {
   "cell_type": "code",
   "execution_count": 8,
   "metadata": {},
   "outputs": [
    {
     "name": "stdout",
     "output_type": "stream",
     "text": [
      "Total number of stations: 191\n",
      "Number of excluded stations in cone of silence: 19\n",
      "Number of train guages: 140\n",
      "Number of validation guages: 16\n",
      "Number of test guages: 16\n",
      "Train stations: [5045, 5047, 5052, 5054, 5056, 5058, 5061, 5115, 5117, 5279, 5291, 5121, 5122, 5123, 5124, 5125, 5130, 5190, 5192, 5207, 5273, 5281, 5282, 5283, 5180, 5230, 5232, 5235, 5237, 5239, 5240, 5245, 5247, 5248, 5251, 5252, 5257, 5260, 5265, 5370, 5390, 5397, 5363, 5377, 5403, 5404, 5407, 5409, 5411, 5412, 5414, 5415, 5417, 5418, 5419, 5422, 5427, 5429, 5445, 5465, 5479, 5485, 5490, 5509, 5521, 5540, 5901, 5905, 5915, 5920, 5925, 5930, 5555, 5573, 5574, 5576, 5577, 5580, 5581, 5585, 5590, 5593, 5596, 5600, 5607, 5618, 5810, 5815, 5824, 5825, 5830, 5840, 5849, 5855, 5859, 5865, 5870, 5565, 5570, 5602, 5610, 5620, 5622, 5623, 5625, 5628, 5633, 5641, 5642, 5645, 5647, 5655, 5660, 5665, 5670, 5675, 5680, 5685, 5697, 5698, 5705, 5710, 5713, 5725, 5730, 5731, 5733, 5740, 5745, 5759, 5763, 5765, 5771, 5775, 5781, 5790, 5795, 5800, 5804, 5805]\n",
      "Validation stations: [5057, 5107, 5201, 5145, 5243, 5359, 5413, 5459, 5909, 5835, 5578, 5690, 5619, 5572, 5750, 5755]\n",
      "Test stations: [5049, 5285, 5195, 5155, 5255, 5340, 5425, 5461, 5515, 5579, 5845, 5699, 5732, 5643, 5694, 5560]\n"
     ]
    },
    {
     "name": "stderr",
     "output_type": "stream",
     "text": [
      "C:\\Users\\Henri\\anaconda3\\envs\\pytorch_trial_0\\lib\\site-packages\\sklearn\\cluster\\_kmeans.py:1416: FutureWarning: The default value of `n_init` will change from 10 to 'auto' in 1.4. Set the value of `n_init` explicitly to suppress the warning\n",
      "  super()._check_params_vs_input(X, default_n_init=10)\n"
     ]
    }
   ],
   "source": [
    "importlib.reload(pf)\n",
    "# Split data into test and train set using K-means clustering for geographical spread of test stations\n",
    "df_clean = station_df[station_df['Within_25km_of_Radar'] == False] # Remove stations within 25 km of radar\n",
    "train_station_ids, val_station_ids, test_station_ids = pf.split_train_val_test_using_Kmeans(df_clean, n_clusters = 10)\n",
    "\n",
    "print(\"Total number of stations:\", len(station_df))\n",
    "print('Number of excluded stations in cone of silence:', len(station_df[station_df['Within_25km_of_Radar'] == True]))\n",
    "print('Number of train guages:', len(train_station_ids))\n",
    "print('Number of validation guages:', len(val_station_ids))\n",
    "print('Number of test guages:', len(test_station_ids))\n",
    "\n",
    "print('Train stations:', train_station_ids)\n",
    "print('Validation stations:', val_station_ids)\n",
    "print('Test stations:', test_station_ids)"
   ]
  },
  {
   "cell_type": "code",
   "execution_count": 9,
   "metadata": {},
   "outputs": [
    {
     "data": {
      "image/png": "[encoded data removed]",
      "text/plain": [
       "<Figure size 400x600 with 1 Axes>"
      ]
     },
     "metadata": {},
     "output_type": "display_data"
    }
   ],
   "source": [
    "# Plot train/test/excluded gagues\n",
    "save_path = base_path + '/figures/Train_Test_Station_Map.png'\n",
    "importlib.reload(pf)\n",
    "pf.plot_test_train_val_split(station_df, radar_df, test_station_ids, val_station_ids, save_path=save_path)"
   ]
  },
  {
   "cell_type": "markdown",
   "metadata": {},
   "source": [
    "# Generate data for model type 3"
   ]
  },
  {
   "cell_type": "code",
   "execution_count": 10,
   "metadata": {},
   "outputs": [],
   "source": [
    "import os\n",
    "from PIL import Image\n",
    "import csv\n",
    "import gc\n",
    "\n",
    "def save_image(image_array, file_dir, file_name):\n",
    "    try:\n",
    "        # Ensure the directory exists\n",
    "        os.makedirs(file_dir, exist_ok=True)\n",
    "        file_path = os.path.join(file_dir, file_name)\n",
    "        # Convert the array to an image and save it\n",
    "        image = Image.fromarray(image_array.astype('uint8'))\n",
    "        image.save(file_path)\n",
    "        image.close()  # Make sure to close the image to free up system resources\n",
    "        return file_path\n",
    "    except Exception as e:\n",
    "        print(f\"Failed to save image {file_name} at {file_dir}: {e}\")\n",
    "        return None\n",
    "\n",
    "def toy(date_input):\n",
    "    days_in_year = 365.25  # Average to account for leap years\n",
    "    date = pd.to_datetime(date_input)\n",
    "    day_of_year = date.day_of_year\n",
    "    sin_time_of_year = np.sin(2 * np.pi * day_of_year / days_in_year)\n",
    "    cos_time_of_year = np.cos(2 * np.pi * day_of_year / days_in_year)\n",
    "    return sin_time_of_year, cos_time_of_year\n",
    "\n",
    "def tod(time_input):\n",
    "    time = pd.to_datetime(time_input)\n",
    "    seconds_since_midnight = (time - time.normalize()).seconds\n",
    "    seconds_in_a_day = 24 * 60 * 60\n",
    "    fraction_of_day = seconds_since_midnight / seconds_in_a_day\n",
    "    sin_time_of_day = np.sin(2 * np.pi * fraction_of_day)\n",
    "    cos_time_of_day = np.cos(2 * np.pi * fraction_of_day)\n",
    "    return sin_time_of_day, cos_time_of_day\n",
    "\n",
    "def generate_ZR_data_with_features_and_images(station_ids, df, station_df, data_dir, start_date, end_date, dist_coast, dist_radar, topo, dat, crop_size):\n",
    "    # Convert start and end dates to Timestamps and filter dates\n",
    "    start_date_dt, end_date_dt = pd.to_datetime(start_date), pd.to_datetime(end_date)\n",
    "    filtered_dates = df.index[(df.index >= start_date_dt) & (df.index <= end_date_dt)]\n",
    "    \n",
    "    # CSV file path and initial setup\n",
    "    csv_file_path = f\"{base_path}/data/{dat}ZR_v3_{crop_size}.csv\"\n",
    "    fieldnames = ['timestamp', 'stationId', 'R', 'Z', 'dBZ', 'radar_norm', 'dist_coast', 'dist_radar', 'topo', 'toy_sin', 'toy_cos', 'tod_sin', 'tod_cos', 'cropped_radar_image_path', 'r_idx', 'c_idx']\n",
    "    with open(csv_file_path, 'w', newline='') as csvfile:\n",
    "        writer = csv.DictWriter(csvfile, fieldnames=fieldnames)\n",
    "        writer.writeheader()\n",
    "    \n",
    "    # Loop through all timestamps and load radar images\n",
    "    for date in tqdm(filtered_dates):\n",
    "        year, month, day, hour, minute = date.year, date.month, date.day, date.hour, date.minute\n",
    "        file_path = f\"{data_dir}/{year}/{year}/{month:02d}/{day:02d}/dk.com.{year}{month:02d}{day:02d}{hour:02d}{minute:02d}.500_max.h5\"\n",
    "        radar_image, success = pf.load_radar_image(file_path)\n",
    "        if not success:\n",
    "            continue\n",
    "        \n",
    "        # For all radar images, go through each station and make a row in the data frame and save image\n",
    "        for station_ID in station_ids:\n",
    "            try:\n",
    "                process_data_for_station(date, station_ID, df, station_df, data_dir, writer, fieldnames, crop_size, dist_coast, dist_radar, topo, dat, radar_image, year, month, day, hour, minute, csv_file_path)\n",
    "            except Exception as e:\n",
    "                print(f\"Error processing {date} for station {station_ID}: {e}\")\n",
    "        \n",
    "        gc.collect()  # Call garbage collector to prevent memory failure\n",
    "        del radar_image # Ensure the radar image is deleted after processing\n",
    "\n",
    "def process_data_for_station(date, station_ID, df, station_df, data_dir, writer, fieldnames, crop_size, dist_coast, dist_radar, topo, dat, radar_image, year, month, day, hour, minute, csv_file_path):\n",
    "    # Pixel indices in radar image for gauge\n",
    "    r_idx, c_idx = station_df.loc[station_df['stationId'] == station_ID, ['radar_pixel_row', 'radar_pixel_col']].iloc[0]\n",
    "    \n",
    "    # R, Z and dBZ data\n",
    "    rain_gauge_value = df.loc[date, str(station_ID)]\n",
    "    dBZ = pf.raw_radar_data_to_dbz(radar_image[r_idx, c_idx])\n",
    "    Z = pf.dbz_to_Z(dBZ)\n",
    "    \n",
    "    # Crop and save image\n",
    "    _, _, _, _, cropped_radar_image = pf.crop_image(radar_image, r_idx, c_idx, crop_size=crop_size)\n",
    "    formatted_date = date.strftime(\"%Y-%m-%d_%H-%M-%S\")\n",
    "    image_dir = f\"{base_path}/data/images/{dat}/{year}/{month:02d}/{day:02d}/{hour:02d}{minute:02d}\"\n",
    "    file_name = f\"cropped_{formatted_date}_{station_ID}_{crop_size}.png\"\n",
    "    cropped_image_path = save_image(cropped_radar_image, image_dir, file_name)\n",
    "    \n",
    "    # Make row in data frame\n",
    "    sample_dict = build_sample_dict(date, station_ID, rain_gauge_value, dBZ, Z, radar_image, r_idx, c_idx, dist_coast, dist_radar, topo, cropped_image_path)\n",
    "    with open(csv_file_path, 'a', newline='') as csvfile:\n",
    "        writer = csv.DictWriter(csvfile, fieldnames=fieldnames)\n",
    "        writer.writerow(sample_dict)\n",
    "\n",
    "def build_sample_dict(date, station_ID, rain_gauge_value, dBZ, Z, radar_image, r_idx, c_idx, dist_coast, dist_radar, topo, cropped_image_path):\n",
    "    sin_toy, cos_toy = toy(date)\n",
    "    sin_tod, cos_tod = tod(date)\n",
    "    return {\n",
    "        'timestamp': date, 'stationId': station_ID, 'R': rain_gauge_value, 'Z': Z[0], 'dBZ': dBZ[0],\n",
    "        'radar_norm': radar_image[r_idx, c_idx]/255.0, 'dist_coast': dist_coast[r_idx, c_idx],\n",
    "        'dist_radar': dist_radar[r_idx, c_idx], 'topo': topo[r_idx, c_idx], 'toy_sin': sin_toy,\n",
    "        'toy_cos': cos_toy, 'tod_sin': sin_tod, 'tod_cos': cos_tod,\n",
    "        'cropped_radar_image_path': cropped_image_path, 'r_idx': r_idx, 'c_idx': c_idx\n",
    "    }"
   ]
  },
  {
   "cell_type": "code",
   "execution_count": 11,
   "metadata": {},
   "outputs": [],
   "source": [
    "# Load features\n",
    "dist_coast = np.load('climate.npy')\n",
    "dist_radar = np.load('dist_radar_01.npy')\n",
    "topo = np.load('topo_01.npy') \n",
    "\n",
    "# Normalize with Min-Max Scaling to [0, 1]\n",
    "def min_max_normalize(arr):\n",
    "    return (arr - arr.min()) / (arr.max() - arr.min())\n",
    "\n",
    "dist_coast = min_max_normalize(dist_coast)\n",
    "dist_radar = min_max_normalize(dist_radar)\n",
    "topo= min_max_normalize(topo)\n",
    "\n",
    "# Initialize\n",
    "data_dir =  base_path + '/data/radar'\n",
    "CROP_SIZE = 63"
   ]
  },
  {
   "cell_type": "markdown",
   "metadata": {},
   "source": [
    "#### Train data"
   ]
  },
  {
   "cell_type": "code",
   "execution_count": 12,
   "metadata": {},
   "outputs": [
    {
     "name": "stderr",
     "output_type": "stream",
     "text": [
      "100%|██████████| 104833/104833 [7:31:09<00:00,  3.87it/s] \n"
     ]
    }
   ],
   "source": [
    "generate_ZR_data_with_features_and_images(train_station_ids, df, station_df, data_dir,\n",
    "                                          start_date='20220402', end_date='20230401', \n",
    "                                          dist_coast=dist_coast, dist_radar=dist_radar, topo=topo, \n",
    "                                          dat='train', crop_size=CROP_SIZE)"
   ]
  },
  {
   "cell_type": "markdown",
   "metadata": {},
   "source": [
    "#### Validation data"
   ]
  },
  {
   "cell_type": "code",
   "execution_count": 13,
   "metadata": {},
   "outputs": [
    {
     "name": "stderr",
     "output_type": "stream",
     "text": [
      "100%|██████████| 78625/78625 [2:09:04<00:00, 10.15it/s]  \n"
     ]
    }
   ],
   "source": [
    "generate_ZR_data_with_features_and_images(val_station_ids, df, station_df, data_dir, \n",
    "                                                           start_date='20230402', end_date='20231231', \n",
    "                                                           dist_coast=dist_coast, dist_radar=dist_radar, topo=topo, \n",
    "                                                           dat = 'val', crop_size = CROP_SIZE)"
   ]
  },
  {
   "cell_type": "markdown",
   "metadata": {},
   "source": [
    "#### Test data"
   ]
  },
  {
   "cell_type": "code",
   "execution_count": 14,
   "metadata": {},
   "outputs": [
    {
     "name": "stderr",
     "output_type": "stream",
     "text": [
      "100%|██████████| 78625/78625 [2:03:47<00:00, 10.59it/s]  \n"
     ]
    }
   ],
   "source": [
    "generate_ZR_data_with_features_and_images(test_station_ids, df, station_df, data_dir, \n",
    "                                                            start_date='20230402', end_date='20231231', \n",
    "                                                            dist_coast=dist_coast, dist_radar=dist_radar, topo=topo, \n",
    "                                                            dat='test', crop_size = CROP_SIZE)"
   ]
  }
 ],
 "metadata": {
  "kernelspec": {
   "display_name": "Python 3 (ipykernel)",
   "language": "python",
   "name": "python3"
  },
  "language_info": {
   "codemirror_mode": {
    "name": "ipython",
    "version": 3
   },
   "file_extension": ".py",
   "mimetype": "text/x-python",
   "name": "python",
   "nbconvert_exporter": "python",
   "pygments_lexer": "ipython3",
   "version": "3.10.11"
  }
 },
 "nbformat": 4,
 "nbformat_minor": 2
}
