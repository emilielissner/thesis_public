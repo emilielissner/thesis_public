{
 "cells": [
  {
   "cell_type": "markdown",
   "metadata": {},
   "source": [
    "# Model Type 1: Global parameters - MSE loss"
   ]
  },
  {
   "cell_type": "code",
   "execution_count": 1,
   "metadata": {},
   "outputs": [
    {
     "name": "stdout",
     "output_type": "stream",
     "text": [
      "Number of CUDA devices: 1\n",
      "Device #0: NVIDIA GeForce RTX 3080\n",
      "  Compute Capability: 8.6\n",
      "  Total Memory: 10239 MB\n"
     ]
    }
   ],
   "source": [
    "import pycuda.driver as cuda\n",
    "cuda.init()\n",
    "\n",
    "# Count the number of GPUs available\n",
    "num_devices = cuda.Device.count()\n",
    "\n",
    "print(\"Number of CUDA devices:\", num_devices)\n",
    "\n",
    "# Loop through devices\n",
    "for i in range(num_devices):\n",
    "    device = cuda.Device(i)\n",
    "    print(f\"Device #{i}: {device.name()}\")\n",
    "    compute_capability = device.compute_capability()\n",
    "    print(f\"  Compute Capability: {compute_capability[0]}.{compute_capability[1]}\")\n",
    "    print(f\"  Total Memory: {device.total_memory() // (1024**2)} MB\")\n"
   ]
  },
  {
   "cell_type": "code",
   "execution_count": 2,
   "metadata": {},
   "outputs": [
    {
     "name": "stdout",
     "output_type": "stream",
     "text": [
      "CUDA is available. Using GPU.\n",
      "C:/Users/Henri/Emilie/Thesis/figures/M1_weighted_MSE\n"
     ]
    }
   ],
   "source": [
    "import torch\n",
    "from torch.utils.data import Dataset, DataLoader, random_split\n",
    "from torchvision import transforms\n",
    "from PIL import Image\n",
    "import pandas as pd\n",
    "import numpy as np\n",
    "import torch.nn as nn\n",
    "import torch.nn.functional as F\n",
    "import torch.optim as optim\n",
    "import matplotlib.pyplot as plt\n",
    "from torch.optim import SGD\n",
    "import torch\n",
    "import torch.nn as nn\n",
    "import torch.optim as optim\n",
    "from torch.nn.functional import mse_loss\n",
    "from torch.nn.functional import mse_loss\n",
    "from torch.optim.lr_scheduler import StepLR\n",
    "from tqdm import tqdm\n",
    "import time\n",
    "\n",
    "# Local application/library specific imports\n",
    "import importlib\n",
    "import sys\n",
    "import os\n",
    "base_path = 'C:/Users/Henri/Emilie/Thesis'\n",
    "sys.path.append(base_path + '/code')\n",
    "import project_functions as pf\n",
    "importlib.reload(pf) # Reloading the local module \n",
    "\n",
    "# Check if CUDA is available\n",
    "if torch.cuda.is_available():\n",
    "    device = torch.device(\"cuda\")\n",
    "    print(\"CUDA is available. Using GPU.\")\n",
    "else:\n",
    "    device = torch.device(\"cpu\")\n",
    "    print(\"CUDA not available. Using CPU.\")\n",
    "    \n",
    "base_path = 'C:/Users/Henri/Emilie/Thesis'\n",
    "\n",
    "# Paths for saving figures\n",
    "modeltype = 'M1'\n",
    "loss = 'MSE'\n",
    "param_string = f\"{modeltype}_weighted_{loss}\"\n",
    "\n",
    "fig_string = base_path + '/figures/' + param_string\n",
    "print(fig_string)"
   ]
  },
  {
   "cell_type": "markdown",
   "metadata": {},
   "source": [
    "### Load data"
   ]
  },
  {
   "cell_type": "code",
   "execution_count": 3,
   "metadata": {},
   "outputs": [],
   "source": [
    "class ZR_dataset(Dataset):\n",
    "    def __init__(self, csv_file):\n",
    "        \"\"\"\n",
    "        Args:\n",
    "            csv_file (string): Path to the csv file\n",
    "        \"\"\"\n",
    "        # Load the dataset\n",
    "        df = pd.read_csv(csv_file)\n",
    "        \n",
    "        # Filter out rows where R or Z are NaN or zero\n",
    "        df = df[(df['R'] != 0) & (df['Z'] != 0) & ~df['R'].isnull() & ~df['Z'].isnull()]\n",
    "        \n",
    "        # Convert 'timestamp' column to datetime\n",
    "        df['timestamp'] = pd.to_datetime(df['timestamp'])\n",
    "        \n",
    "        # Filter the rows where the minute value is a multiple of 10\n",
    "        self.data_frame = df[df['timestamp'].dt.minute % 10 == 0]\n",
    "\n",
    "    def __len__(self):\n",
    "        return len(self.data_frame)\n",
    "\n",
    "    def __getitem__(self, idx):\n",
    "        # Extract the target value\n",
    "        R = self.data_frame.iloc[idx]['R']\n",
    "        Z = self.data_frame.iloc[idx]['Z']\n",
    "        #StationId = self.data_frame.iloc[idx]['stationId']\n",
    "        #t = self.data_frame.iloc[idx]['timestamp']\n",
    "        \n",
    "        R = torch.tensor(R, dtype=torch.float) \n",
    "        Z = torch.tensor(Z, dtype=torch.float) \n",
    "        \n",
    "        return {'R': R, 'Z': Z}#, 't': t, 'stationId': StationId}\n"
   ]
  },
  {
   "cell_type": "markdown",
   "metadata": {},
   "source": [
    "### Estimate A and B global"
   ]
  },
  {
   "cell_type": "code",
   "execution_count": 4,
   "metadata": {},
   "outputs": [
    {
     "name": "stdout",
     "output_type": "stream",
     "text": [
      "Using cuda device\n",
      "Epoch 1, Loss: 0.0010131012529228023, Validation Loss: 0.0009611463825434178, A: 152.65482664108276, B: 1.8787833452224731\n",
      "Epoch 2, Loss: 0.0008024222647849428, Validation Loss: 0.0008230503266646914, A: 144.66568231582642, B: 2.091905117034912\n",
      "Epoch 3, Loss: 0.0007063838275459961, Validation Loss: 0.0007436705032616167, A: 149.31572675704956, B: 2.272350549697876\n",
      "Epoch 4, Loss: 0.0006487663435251849, Validation Loss: 0.0006954146391579019, A: 154.5538067817688, B: 2.430561065673828\n",
      "Epoch 5, Loss: 0.0006110529709092723, Validation Loss: 0.0006620930519194094, A: 159.23616886138916, B: 2.5730762481689453\n",
      "Epoch 6, Loss: 0.0005848933085052908, Validation Loss: 0.0006379960991014783, A: 164.572274684906, B: 2.703671455383301\n",
      "Epoch 7, Loss: 0.0005661093501424186, Validation Loss: 0.0006212795451775691, A: 169.3440079689026, B: 2.824704885482788\n",
      "Epoch 8, Loss: 0.0005522793428297944, Validation Loss: 0.0006089124856752536, A: 173.5639214515686, B: 2.937774419784546\n",
      "Epoch 9, Loss: 0.0005419465614065535, Validation Loss: 0.0006007853172551762, A: 177.34627723693848, B: 3.0440404415130615\n",
      "Epoch 10, Loss: 0.0005340268468475464, Validation Loss: 0.0005923853227437969, A: 181.86488151550293, B: 3.144223690032959\n",
      "Epoch 11, Loss: 0.0005280497432334288, Validation Loss: 0.0005872659357362918, A: 185.24295091629028, B: 3.2393834590911865\n",
      "Epoch 12, Loss: 0.0005234355590247136, Validation Loss: 0.0005843137391162152, A: 189.50155973434448, B: 3.3286256790161133\n",
      "Epoch 13, Loss: 0.0005199346606690534, Validation Loss: 0.0005811950447049677, A: 192.3422336578369, B: 3.4132697582244873\n",
      "Epoch 14, Loss: 0.0005173262874807892, Validation Loss: 0.0005793184222834644, A: 197.2797393798828, B: 3.4918582439422607\n",
      "Epoch 15, Loss: 0.0005153288008819516, Validation Loss: 0.0005776793738444401, A: 199.65522289276123, B: 3.5656299591064453\n",
      "Epoch 16, Loss: 0.0005138528020236652, Validation Loss: 0.0005769765839256415, A: 202.0235776901245, B: 3.633749008178711\n",
      "Epoch 17, Loss: 0.0005128557238115263, Validation Loss: 0.0005764585700093112, A: 204.38294410705566, B: 3.695672035217285\n",
      "Epoch 18, Loss: 0.0005121056405317479, Validation Loss: 0.0005760603391380433, A: 209.39712524414062, B: 3.7503180503845215\n",
      "Epoch 19, Loss: 0.0005116045261636324, Validation Loss: 0.0005758656132884427, A: 209.80939865112305, B: 3.8002467155456543\n",
      "Epoch 20, Loss: 0.0005112633401218706, Validation Loss: 0.0005754966582030602, A: 212.3990774154663, B: 3.8420913219451904\n",
      "Epoch 21, Loss: 0.0005110977458483985, Validation Loss: 0.0005756463264265081, A: 214.15317058563232, B: 3.8762636184692383\n",
      "Epoch 22, Loss: 0.0005109829250228029, Validation Loss: 0.0005755974128782216, A: 215.28849601745605, B: 3.9030556678771973\n",
      "Epoch 23, Loss: 0.0005109187792549667, Validation Loss: 0.0005761265508804487, A: 217.28887557983398, B: 3.924664258956909\n",
      "Epoch 24, Loss: 0.0005109053174573578, Validation Loss: 0.0005767505937462085, A: 217.730712890625, B: 3.939328193664551\n",
      "Epoch 25, Loss: 0.0005108925067993676, Validation Loss: 0.0005762597851067437, A: 217.37000942230225, B: 3.952579975128174\n",
      "Epoch 26, Loss: 0.0005108968055209469, Validation Loss: 0.0005760020708803289, A: 218.00663471221924, B: 3.9571099281311035\n",
      "Epoch 27, Loss: 0.0005108565698752313, Validation Loss: 0.0005760993723313245, A: 217.62926578521729, B: 3.960219144821167\n",
      "Epoch 28, Loss: 0.0005108837166351186, Validation Loss: 0.0005757310302021407, A: 218.26395988464355, B: 3.9619014263153076\n",
      "Epoch 29, Loss: 0.000510855603798995, Validation Loss: 0.0005759076203883972, A: 219.9641466140747, B: 3.9620203971862793\n",
      "Epoch 30, Loss: 0.0005108694972777282, Validation Loss: 0.0005759357985550432, A: 219.1145896911621, B: 3.966102123260498\n",
      "Epoch 31, Loss: 0.0005108964717887287, Validation Loss: 0.0005759875327709534, A: 218.24545860290527, B: 3.961789608001709\n",
      "Epoch 32, Loss: 0.0005108827474704033, Validation Loss: 0.0005758436822858449, A: 220.18308639526367, B: 3.9588234424591064\n",
      "Epoch 33, Loss: 0.0005109192462329939, Validation Loss: 0.000575697102007433, A: 218.6995267868042, B: 3.961261510848999\n",
      "Epoch 34, Loss: 0.0005108864696170714, Validation Loss: 0.00057547083742319, A: 218.5520887374878, B: 3.957979440689087\n",
      "Epoch 35, Loss: 0.0005108726650865339, Validation Loss: 0.0005755520897565061, A: 218.98174285888672, B: 3.9616777896881104\n",
      "Epoch 36, Loss: 0.0005108499058199369, Validation Loss: 0.0005759202554825977, A: 218.9444065093994, B: 3.960578680038452\n",
      "Epoch 37, Loss: 0.0005108927985282714, Validation Loss: 0.0005759863692232855, A: 217.27213859558105, B: 3.9669668674468994\n",
      "Epoch 38, Loss: 0.0005108677536989601, Validation Loss: 0.0005762916267557866, A: 219.3700075149536, B: 3.9577789306640625\n",
      "Epoch 39, Loss: 0.0005109112616323145, Validation Loss: 0.0005761445992331716, A: 219.9291706085205, B: 3.9619250297546387\n",
      "Epoch 40, Loss: 0.0005108809279150516, Validation Loss: 0.0005765064358301417, A: 217.07146167755127, B: 3.9698731899261475\n",
      "Epoch 41, Loss: 0.0005108510392034936, Validation Loss: 0.0005760245435651487, A: 218.11809539794922, B: 3.957960844039917\n",
      "Epoch 42, Loss: 0.0005108814563979324, Validation Loss: 0.0005764331572729569, A: 218.67365837097168, B: 3.9686050415039062\n",
      "Epoch 43, Loss: 0.0005109087282853409, Validation Loss: 0.0005759492835914146, A: 219.50998306274414, B: 3.9664547443389893\n",
      "Epoch 44, Loss: 0.0005108892653082768, Validation Loss: 0.0005760129312525123, A: 219.77436542510986, B: 3.963228225708008\n",
      "Epoch 45, Loss: 0.0005108715595875307, Validation Loss: 0.000576840885401606, A: 217.82948970794678, B: 3.9716432094573975\n",
      "Epoch 46, Loss: 0.0005108981325080168, Validation Loss: 0.0005767586459237141, A: 218.69614124298096, B: 3.960897922515869\n",
      "Epoch 47, Loss: 0.0005108641052345772, Validation Loss: 0.0005761033779288089, A: 218.94845962524414, B: 3.961620569229126\n",
      "Epoch 48, Loss: 0.0005108788706350577, Validation Loss: 0.0005764288398518248, A: 218.3584690093994, B: 3.9582769870758057\n",
      "Epoch 49, Loss: 0.0005108737365240258, Validation Loss: 0.0005752635459715161, A: 217.844820022583, B: 3.967268466949463\n",
      "Epoch 50, Loss: 0.0005108824897147689, Validation Loss: 0.0005761546720279136, A: 219.04380321502686, B: 3.9589109420776367\n",
      "Epoch 51, Loss: 0.0005108770430496605, Validation Loss: 0.0005763701688961428, A: 219.73443031311035, B: 3.9645988941192627\n",
      "Epoch 52, Loss: 0.0005108926664296117, Validation Loss: 0.000575920145007934, A: 218.623685836792, B: 3.9633331298828125\n",
      "Epoch 53, Loss: 0.0005109103047332731, Validation Loss: 0.0005756719601121898, A: 216.83368682861328, B: 3.9703433513641357\n",
      "Epoch 54, Loss: 0.0005108930787856815, Validation Loss: 0.0005760277615851919, A: 218.09945106506348, B: 3.966937303543091\n",
      "Epoch 55, Loss: 0.0005108882242261216, Validation Loss: 0.0005763286090403913, A: 218.43206882476807, B: 3.959383249282837\n",
      "Epoch 56, Loss: 0.0005108804145215967, Validation Loss: 0.0005761260947269985, A: 217.35460758209229, B: 3.962881565093994\n",
      "Epoch 57, Loss: 0.0005108986620498047, Validation Loss: 0.0005758965747038747, A: 216.81876182556152, B: 3.964940309524536\n",
      "Epoch 58, Loss: 0.0005108759103720419, Validation Loss: 0.0005759928997013909, A: 216.56036376953125, B: 3.9649782180786133\n",
      "Epoch 59, Loss: 0.0005109043948845545, Validation Loss: 0.0005760953310968515, A: 220.04282474517822, B: 3.955232858657837\n",
      "Epoch 60, Loss: 0.0005108978936362254, Validation Loss: 0.0005759446133640984, A: 217.34344959259033, B: 3.960892915725708\n",
      "Epoch 61, Loss: 0.0005108785994666001, Validation Loss: 0.0005763758690324209, A: 219.29919719696045, B: 3.9590280055999756\n",
      "Epoch 62, Loss: 0.0005109223093864822, Validation Loss: 0.0005758856501851124, A: 219.58246231079102, B: 3.963928699493408\n",
      "Epoch 63, Loss: 0.000510871590207594, Validation Loss: 0.000575887916697568, A: 218.48347187042236, B: 3.96281361579895\n",
      "Epoch 64, Loss: 0.0005108651201970242, Validation Loss: 0.0005765769257929923, A: 219.11447048187256, B: 3.957736015319824\n",
      "Epoch 65, Loss: 0.0005108971550485293, Validation Loss: 0.0005753018486065371, A: 219.3376064300537, B: 3.9593870639801025\n",
      "Epoch 66, Loss: 0.0005109057872591372, Validation Loss: 0.0005761872068163789, A: 218.70787143707275, B: 3.965010404586792\n",
      "Epoch 67, Loss: 0.0005108960511378866, Validation Loss: 0.0005758468504141045, A: 218.95289421081543, B: 3.955892324447632\n"
     ]
    },
    {
     "name": "stdout",
     "output_type": "stream",
     "text": [
      "Epoch 68, Loss: 0.0005109119527456762, Validation Loss: 0.0005762066414479464, A: 217.53301620483398, B: 3.9699771404266357\n",
      "Epoch 69, Loss: 0.000510906692889427, Validation Loss: 0.0005763636045628985, A: 217.27793216705322, B: 3.9615871906280518\n",
      "Epoch 70, Loss: 0.0005108767901473502, Validation Loss: 0.0005760115806106559, A: 219.46184635162354, B: 3.957056760787964\n",
      "Epoch 71, Loss: 0.0005108928517383527, Validation Loss: 0.000576300803280273, A: 217.27380752563477, B: 3.9641849994659424\n",
      "Epoch 72, Loss: 0.0005108636085189092, Validation Loss: 0.0005764196294721996, A: 219.3187952041626, B: 3.9607315063476562\n",
      "Epoch 73, Loss: 0.0005108728022150022, Validation Loss: 0.0005752254090484905, A: 218.82140636444092, B: 3.956728458404541\n",
      "Epoch 74, Loss: 0.0005108859442226697, Validation Loss: 0.0005763402302622749, A: 219.33438777923584, B: 3.952641010284424\n",
      "Epoch 75, Loss: 0.0005108640386116728, Validation Loss: 0.0005759875345528028, A: 219.75476741790771, B: 3.95690655708313\n",
      "Epoch 76, Loss: 0.0005108710814027367, Validation Loss: 0.0005760057272353281, A: 217.83888339996338, B: 3.956934690475464\n",
      "Epoch 77, Loss: 0.0005108908249019377, Validation Loss: 0.0005755811535023114, A: 219.39356327056885, B: 3.96612548828125\n",
      "Epoch 78, Loss: 0.0005109059709795176, Validation Loss: 0.0005754281870755967, A: 219.58580017089844, B: 3.9651694297790527\n",
      "Epoch 79, Loss: 0.0005108771921790758, Validation Loss: 0.000577019934540055, A: 220.2786684036255, B: 3.9634578227996826\n",
      "Epoch 80, Loss: 0.000510898772793838, Validation Loss: 0.0005761330742311564, A: 218.89996528625488, B: 3.9685778617858887\n",
      "Epoch 81, Loss: 0.0005109071001274458, Validation Loss: 0.0005756045812584174, A: 218.05555820465088, B: 3.9664103984832764\n",
      "Epoch 82, Loss: 0.0005109217614020624, Validation Loss: 0.0005761224134261076, A: 218.71225833892822, B: 3.9615983963012695\n",
      "Epoch 83, Loss: 0.0005108834507611964, Validation Loss: 0.0005759658423180266, A: 218.84074211120605, B: 3.9637978076934814\n",
      "Epoch 84, Loss: 0.0005108676561912655, Validation Loss: 0.0005763903554681633, A: 218.34967136383057, B: 3.9658126831054688\n",
      "Epoch 85, Loss: 0.0005109012571663585, Validation Loss: 0.0005758964963025004, A: 217.81151294708252, B: 3.9644908905029297\n",
      "Epoch 86, Loss: 0.0005108845311111563, Validation Loss: 0.0005756213502432604, A: 218.7887668609619, B: 3.962423086166382\n",
      "Epoch 87, Loss: 0.0005108788899601122, Validation Loss: 0.0005755666652847194, A: 218.22359561920166, B: 3.964514970779419\n",
      "Epoch 88, Loss: 0.0005108817943657789, Validation Loss: 0.000575808052424946, A: 219.2617893218994, B: 3.9626591205596924\n",
      "Epoch 89, Loss: 0.0005109003513595842, Validation Loss: 0.000576521084414181, A: 218.12965869903564, B: 3.9661457538604736\n",
      "Epoch 90, Loss: 0.0005108746420660733, Validation Loss: 0.0005755350552761004, A: 218.79172325134277, B: 3.9526195526123047\n",
      "Epoch 91, Loss: 0.0005109062795626924, Validation Loss: 0.0005762821366258032, A: 216.64788722991943, B: 3.959080696105957\n",
      "Epoch 92, Loss: 0.0005108947415345416, Validation Loss: 0.000576137393434138, A: 218.24007034301758, B: 3.957960844039917\n",
      "Epoch 93, Loss: 0.0005108788596930178, Validation Loss: 0.0005755779319185693, A: 217.54918098449707, B: 3.9680068492889404\n",
      "Epoch 94, Loss: 0.000510885719999093, Validation Loss: 0.0005761683299036782, A: 218.3218002319336, B: 3.9645795822143555\n",
      "Epoch 95, Loss: 0.0005108964033127368, Validation Loss: 0.000575722217174935, A: 218.60764026641846, B: 3.9640953540802\n",
      "Epoch 96, Loss: 0.0005109124912881743, Validation Loss: 0.0005759898545207409, A: 219.05295848846436, B: 3.9583659172058105\n",
      "Epoch 97, Loss: 0.0005109197463018677, Validation Loss: 0.0005762832342450428, A: 220.29731273651123, B: 3.965210199356079\n",
      "Epoch 98, Loss: 0.0005109026142440383, Validation Loss: 0.0005761467677439094, A: 219.49684619903564, B: 3.9661993980407715\n",
      "Epoch 99, Loss: 0.000510855904528609, Validation Loss: 0.0005753220939795884, A: 219.65348720550537, B: 3.964364528656006\n",
      "Epoch 100, Loss: 0.0005109046690532489, Validation Loss: 0.0005763136450690057, A: 219.3047046661377, B: 3.963980197906494\n"
     ]
    }
   ],
   "source": [
    "start_time = time.time()\n",
    "\n",
    "NUM_EPOCHS = 100 \n",
    "LEARNING_RATE = 0.001 # 0.001 convergence, but maybe to high\n",
    "BATCH_SIZE = 1024\n",
    "\n",
    "# Check if CUDA is available, otherwise use CPU\n",
    "device = torch.device(\"cuda\" if torch.cuda.is_available() else \"cpu\")\n",
    "print(f\"Using {device} device\")\n",
    "\n",
    "# Load data\n",
    "train_dataset = ZR_dataset(csv_file=base_path + f'/data/trainZR_v3_31.csv')\n",
    "train_dataloader = DataLoader(train_dataset, batch_size=BATCH_SIZE, shuffle=True)\n",
    "\n",
    "validation_dataset = ZR_dataset(csv_file=base_path + f'/data/valZR_v3_31.csv')\n",
    "validation_dataloader = DataLoader(validation_dataset, batch_size=BATCH_SIZE, shuffle=True)\n",
    "\n",
    "# For plotting\n",
    "losses = []\n",
    "validation_losses = []\n",
    "As = []\n",
    "Bs = []\n",
    "epsilon = 1e-6 \n",
    "\n",
    "# Initialize A and B as tensors with requires_grad=True and move them to the selected device\n",
    "A = torch.tensor([1.0], requires_grad=True, device=device) # Starting guess\n",
    "B = torch.tensor([1.6], requires_grad=True, device=device)  # Starting guess\n",
    "\n",
    "# Optimizer - optimize A and B directly\n",
    "optimizer = optim.Adam([A, B], lr=LEARNING_RATE)\n",
    "huber_loss = nn.SmoothL1Loss()\n",
    "\n",
    "# Example training loop\n",
    "for epoch in range(NUM_EPOCHS):\n",
    "    running_loss = 0.0\n",
    "    for batch in train_dataloader:    \n",
    "        optimizer.zero_grad()\n",
    "    \n",
    "        Z = batch['Z'].unsqueeze(1).to(device)\n",
    "        logR_pred = torch.log((Z/200)/A)/B\n",
    "        logR_true = torch.log(batch['R'].unsqueeze(1).to(device) * 60)\n",
    "        \n",
    "        \n",
    "        # Calculate weighted loss\n",
    "        loss = torch.mean((logR_pred - logR_true) ** 2)\n",
    "        \n",
    "        # Backpropagation\n",
    "        loss.backward()\n",
    "        \n",
    "        # Update A and B\n",
    "        optimizer.step()\n",
    "        running_loss += loss.item() \n",
    "\n",
    "    # Calculate average loss over the epoch\n",
    "    epoch_loss = running_loss / len(train_dataloader.dataset)\n",
    "    losses.append(epoch_loss)\n",
    "    \n",
    "    # Validation loop\n",
    "    with torch.no_grad():  # No need to track gradients during validation\n",
    "        validation_loss = 0.0\n",
    "        for batch in validation_dataloader:\n",
    "            Z = batch['Z'].unsqueeze(1).to(device)\n",
    "            logR_pred = torch.log((Z/200)/A)/B\n",
    "            logR_true = torch.log(batch['R'].unsqueeze(1).to(device) * 60)\n",
    "\n",
    "            \n",
    "            # Calculate validation loss\n",
    "            v_loss = torch.mean((logR_pred - logR_true) ** 2)\n",
    "            validation_loss += v_loss.item()\n",
    "\n",
    "        # Calculate average validation loss over the epoch\n",
    "        validation_loss /= len(validation_dataloader.dataset)\n",
    "        validation_losses.append(validation_loss)\n",
    "        \n",
    "    #scheduler.step()\n",
    "    As.append(A.item() * 200)\n",
    "    Bs.append(B.item())\n",
    "    \n",
    "\n",
    "    if epoch % 1 == 0:\n",
    "        print(f\"Epoch {epoch + 1}, Loss: {epoch_loss}, Validation Loss: {validation_loss}, A: {A.item() * 200}, B: {B.item()}\")\n",
    "\n",
    "end_time = time.time()\n",
    "elapsed_time = end_time - start_time"
   ]
  },
  {
   "cell_type": "code",
   "execution_count": 5,
   "metadata": {},
   "outputs": [
    {
     "name": "stdout",
     "output_type": "stream",
     "text": [
      "Training took 1.27 hours.\n"
     ]
    }
   ],
   "source": [
    "print(f\"Training took {elapsed_time/60/60:.2f} hours.\")"
   ]
  },
  {
   "cell_type": "code",
   "execution_count": 6,
   "metadata": {},
   "outputs": [
    {
     "name": "stdout",
     "output_type": "stream",
     "text": [
      "Estimated A:\t: 218.606858253479\n",
      "Estimated B:\t: 3.9631158113479614\n"
     ]
    }
   ],
   "source": [
    "A_est = np.array(As)[80:].mean()\n",
    "B_est = np.array(Bs)[80:].mean()\n",
    "print('Estimated A:\\t:', A_est)\n",
    "print('Estimated B:\\t:', B_est)"
   ]
  },
  {
   "cell_type": "code",
   "execution_count": 7,
   "metadata": {},
   "outputs": [
    {
     "name": "stdout",
     "output_type": "stream",
     "text": [
      "Variance of A:\t: 0.6271227422075754\n",
      "Variance of B:\t: 1.2671357913518477e-05\n"
     ]
    }
   ],
   "source": [
    "A_var = np.array(As)[80:].var()\n",
    "B_var = np.array(Bs)[80:].var()\n",
    "print('Variance of A:\\t:', A_var)\n",
    "print('Variance of B:\\t:', B_var)"
   ]
  },
  {
   "cell_type": "code",
   "execution_count": 8,
   "metadata": {},
   "outputs": [
    {
     "data": {
      "image/png": "[encoded data removed]",
      "text/plain": [
       "<Figure size 1400x400 with 3 Axes>"
      ]
     },
     "metadata": {},
     "output_type": "display_data"
    }
   ],
   "source": [
    "epochs = np.arange(NUM_EPOCHS)\n",
    "fig, axs = plt.subplots(1, 3, figsize=(14, 4))  # Adjust the size as needed\n",
    "\n",
    "# Plot training and validation losses\n",
    "axs[0].plot(epochs, losses, color = 'black', label = 'Train')\n",
    "axs[0].plot(epochs, validation_losses, color = 'darkorange', label = 'Validation')\n",
    "axs[0].set_xlabel('Epochs')\n",
    "axs[0].set_ylabel('Loss')\n",
    "axs[0].legend()\n",
    "\n",
    "# Plot A values\n",
    "axs[1].plot(epochs, As, label='A Values', color = 'black')\n",
    "axs[1].set_xlabel('Epochs')\n",
    "axs[1].set_ylabel('A Value')\n",
    "axs[1].axhline(y=A_est, color='dodgerblue', linestyle='--', alpha = 0.7, label = f'A Estimate {A_est:.2f}')\n",
    "axs[1].legend()\n",
    "\n",
    "# Plot B values\n",
    "axs[2].plot(epochs, Bs, label='B Values', color = 'black')\n",
    "axs[2].set_xlabel('Epochs')\n",
    "axs[2].set_ylabel('B Value')\n",
    "axs[2].axhline(y=B_est, color='dodgerblue', linestyle='--', alpha = 0.7, label = f'B Estimate {B_est:.2f}')\n",
    "axs[2].legend()\n",
    "\n",
    "plt.tight_layout()\n",
    "save_path = fig_string + 'model_conv.png'\n",
    "plt.savefig(save_path, bbox_inches='tight', pad_inches=0.01, dpi=300)\n",
    "plt.show()"
   ]
  },
  {
   "cell_type": "markdown",
   "metadata": {},
   "source": [
    "#### Evaluatuion"
   ]
  },
  {
   "cell_type": "code",
   "execution_count": 9,
   "metadata": {},
   "outputs": [
    {
     "name": "stderr",
     "output_type": "stream",
     "text": [
      "C:\\Users\\Henri\\anaconda3\\envs\\pytorch_trial_0\\lib\\site-packages\\pandas\\core\\arraylike.py:396: RuntimeWarning: divide by zero encountered in log10\n",
      "  result = getattr(ufunc, method)(*inputs, **kwargs)\n"
     ]
    }
   ],
   "source": [
    "df_test = pd.read_csv(base_path + f'/data/testZR_v3.csv')\n",
    "valid_idx = (df_test['R'] != 0) & (df_test['Z'] != 0) & ~df_test['R'].isnull() & ~df_test['Z'].isnull()\n",
    "\n",
    "# Convert timestamp to datetime\n",
    "df_test['timestamp'] = pd.to_datetime(df_test['timestamp'])\n",
    "df_test = df_test[df_test['timestamp'].dt.minute % 10 == 0]\n",
    "df_test = df_test.dropna(subset=['Z', 'R'])\n",
    "\n",
    "df_test['dBZ'] = np.where(df_test['Z'] > 0, 10 * np.log10(df_test['Z']), 0)\n",
    "df_test['R_pred'] = np.array(pf.dbz_to_R_marshall_palmer(df_test['dBZ'], A_est, B_est))\n",
    "df_test['R_true'] = np.array(df_test['R']*60)\n",
    "df_test['MP'] = np.array(pf.dbz_to_R_marshall_palmer(df_test['dBZ'], 200, 1.6))\n",
    "\n",
    "df_test['error_standard'] = df_test['R_true'] - df_test['MP']\n",
    "df_test['error_opt'] = df_test['R_true'] - df_test['R_pred']\n",
    "\n",
    "\n",
    "# Extract month and year for grouping\n",
    "df_test['year'] = df_test['timestamp'].dt.year\n",
    "df_test['month'] = df_test['timestamp'].dt.month"
   ]
  },
  {
   "cell_type": "code",
   "execution_count": 10,
   "metadata": {},
   "outputs": [
    {
     "name": "stdout",
     "output_type": "stream",
     "text": [
      "MP: \t 0.9183279189979675\n",
      "Model: \t 0.7149924670975902\n"
     ]
    }
   ],
   "source": [
    "from sklearn.metrics import mean_squared_error, mean_absolute_error\n",
    "print('MP: \\t', np.sqrt(mean_squared_error(df_test['R_true'] , df_test['MP'] )))\n",
    "print('Model: \\t', np.sqrt(mean_squared_error(df_test['R_true'] , df_test['R_pred'] )))"
   ]
  },
  {
   "cell_type": "code",
   "execution_count": null,
   "metadata": {
    "scrolled": false
   },
   "outputs": [],
   "source": [
    "# Example 1\n",
    "pf.plot_hyetograph(df_test, station_id=5049, \n",
    "               start_timestamp='2023-04-12 20:00:00', \n",
    "               end_timestamp='2023-04-13 08:30:00', \n",
    "               A_est=A_est, B_est=B_est, save_path = fig_string,\n",
    "               tick_interval=6)  \n",
    "\n",
    "# Example 2\n",
    "pf.plot_hyetograph(df_test, station_id=5195,\n",
    "               start_timestamp='2023-07-26 00:00:00', \n",
    "               end_timestamp='2023-07-26 16:00:00', \n",
    "               A_est=A_est, B_est=B_est, save_path = fig_string,\n",
    "               tick_interval=6)  \n",
    "\n",
    "# Example 3\n",
    "pf.plot_hyetograph(df_test, station_id=5049,\n",
    "               start_timestamp='2023-08-24 15:00:00', \n",
    "               end_timestamp='2023-08-25 08:00:00', \n",
    "               A_est=A_est, B_est=B_est, save_path = fig_string,\n",
    "               tick_interval=6)  \n",
    "\n",
    "# Example 4 \n",
    "pf.plot_hyetograph(df_test, station_id=5340,\n",
    "               start_timestamp='2023-10-02 20:00:00', \n",
    "               end_timestamp='2023-10-03 11:00:00', \n",
    "               A_est=A_est, B_est=B_est, save_path = fig_string,\n",
    "               tick_interval=6)  \n",
    "\n",
    "# Example 5 \n",
    "pf.plot_hyetograph(df_test, station_id=5340,\n",
    "               start_timestamp='2023-12-21 00:00:00', \n",
    "               end_timestamp='2023-12-21 11:00:00', \n",
    "               A_est=A_est, B_est=B_est, save_path = fig_string,\n",
    "               tick_interval=6)  \n",
    "\n",
    "# Example 6 \n",
    "pf.plot_hyetograph(df_test, station_id=5732,\n",
    "               start_timestamp='2023-04-11 00:00:00', \n",
    "               end_timestamp='2023-04-11 18:00:00', \n",
    "               A_est=A_est, B_est=B_est, save_path = fig_string,\n",
    "               tick_interval=6)  \n",
    "\n",
    "# Example 7 \n",
    "pf.plot_hyetograph(df_test, station_id=5461,\n",
    "               start_timestamp='2023-05-05 20:00:00', \n",
    "               end_timestamp='2023-05-06 09:00:00', \n",
    "               A_est=A_est, B_est=B_est, save_path = fig_string,\n",
    "               tick_interval=6)  "
   ]
  },
  {
   "cell_type": "markdown",
   "metadata": {},
   "source": [
    "### Error Analysis"
   ]
  },
  {
   "cell_type": "code",
   "execution_count": null,
   "metadata": {},
   "outputs": [],
   "source": [
    "# by Rain Intensity Group\n",
    "pf.plot_goruped_rain_intensity_error(df_test.loc[valid_idx,:].copy(), save_path = fig_string)"
   ]
  },
  {
   "cell_type": "code",
   "execution_count": null,
   "metadata": {},
   "outputs": [],
   "source": [
    "# by month\n",
    "pf.plot_rmse_by_month(df_test.loc[valid_idx,:].copy(), save_path = fig_string)"
   ]
  },
  {
   "cell_type": "code",
   "execution_count": null,
   "metadata": {},
   "outputs": [],
   "source": [
    "# Error metrics for differnt aggregation levels\n",
    "metrics_df = pf.calculate_metrics(df_test.loc[valid_idx,:].copy())\n",
    "metrics_df_MP = pf.calculate_metrics_MP(df_test.loc[valid_idx,:].copy())\n",
    "\n",
    "pf.plot_error_metrics(metrics_df, metrics_df_MP, save_path = fig_string)"
   ]
  },
  {
   "cell_type": "code",
   "execution_count": null,
   "metadata": {},
   "outputs": [],
   "source": [
    "metrics_MP = pf.evaluation_metrics(df_test['R_true'].loc[valid_idx], df_test['MP'].loc[valid_idx])\n",
    "metrics_MP_opt = pf.evaluation_metrics(df_test['R_true'].loc[valid_idx], df_test['R_pred'].loc[valid_idx])\n",
    "\n",
    "# Create a DataFrame from the metrics\n",
    "metrics_df = pd.DataFrame({\n",
    "    'MP': metrics_MP,\n",
    "    'MP_opt': metrics_MP_opt,\n",
    "})\n",
    "\n",
    "# Transpose the DataFrame to have models as rows and metrics as columns\n",
    "metrics_df = metrics_df.T\n",
    "metrics_df"
   ]
  },
  {
   "cell_type": "code",
   "execution_count": null,
   "metadata": {},
   "outputs": [],
   "source": [
    "print('Total absolute error optimized parameters:', abs(df_test['R_true'].loc[valid_idx] / 6  -  df_test['R_pred'].loc[valid_idx] / 6).sum())\n",
    "print('Total absolute error standard parameters:', abs(df_test['R_true'].loc[valid_idx] / 6  -  df_test['MP'].loc[valid_idx] / 6).sum())"
   ]
  }
 ],
 "metadata": {
  "kernelspec": {
   "display_name": "Python 3 (ipykernel)",
   "language": "python",
   "name": "python3"
  },
  "language_info": {
   "codemirror_mode": {
    "name": "ipython",
    "version": 3
   },
   "file_extension": ".py",
   "mimetype": "text/x-python",
   "name": "python",
   "nbconvert_exporter": "python",
   "pygments_lexer": "ipython3",
   "version": "3.10.11"
  }
 },
 "nbformat": 4,
 "nbformat_minor": 2
}
